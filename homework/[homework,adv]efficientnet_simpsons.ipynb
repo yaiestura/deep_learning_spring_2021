{
  "nbformat": 4,
  "nbformat_minor": 5,
  "metadata": {
    "kernelspec": {
      "display_name": "Python 3",
      "language": "python",
      "name": "python3"
    },
    "language_info": {
      "codemirror_mode": {
        "name": "ipython",
        "version": 3
      },
      "file_extension": ".py",
      "mimetype": "text/x-python",
      "name": "python",
      "nbconvert_exporter": "python",
      "pygments_lexer": "ipython3",
      "version": "3.8.6"
    },
    "colab": {
      "name": "efficientnet-b3-simpsons",
      "provenance": [],
      "collapsed_sections": [],
      "toc_visible": true,
      "machine_shape": "hm"
    },
    "accelerator": "GPU"
  },
  "cells": [
    {
      "cell_type": "markdown",
      "metadata": {
        "id": "ZQIcDAybknBG"
      },
      "source": [
        "#**Домашнее задание: многоклассовая классфикация с помощью fine-tuning**\n",
        "\n",
        "## Stepik: Павел Цветов, User ID: 39555013\n",
        "\n",
        "## Путешествие по Спрингфилду.\n",
        "\n",
        "\n",
        "Сегодня вам предстоить помочь телекомпании FOX  в обработке их контента. Как вы знаете сериал Симсоны идет на телеэкранах более 25 лет и за это время скопилось очень много видео материала. Персоонажи менялись вместе с изменяющимися графическими технологиями   и Гомер 2018 не очень похож на Гомера 1989. Нашей задачей будет научиться классифицировать персонажей проживающих в Спрингфилде. Думаю, что нет смысла представлять каждого из них в отдельности.\n",
        "\n",
        "\n",
        "\n",
        " ![alt text](https://vignette.wikia.nocookie.net/simpsons/images/5/5a/Spider_fat_piglet.png/revision/latest/scale-to-width-down/640?cb=20111118140828)\n",
        "\n",
        "\n",
        "\n"
      ],
      "id": "ZQIcDAybknBG"
    },
    {
      "cell_type": "markdown",
      "metadata": {
        "id": "USOyUu5_kvY1"
      },
      "source": [
        "### Установка зависимостей"
      ],
      "id": "USOyUu5_kvY1"
    },
    {
      "cell_type": "code",
      "metadata": {
        "id": "wZdXwox69XDo",
        "colab": {
          "base_uri": "https://localhost:8080/"
        },
        "outputId": "0d201b81-fb12-4332-dbac-6b4e125fb5fd"
      },
      "source": [
        "!pip install efficientnet_pytorch"
      ],
      "id": "wZdXwox69XDo",
      "execution_count": 1,
      "outputs": [
        {
          "output_type": "stream",
          "text": [
            "Requirement already satisfied: efficientnet_pytorch in /usr/local/lib/python3.7/dist-packages (0.7.1)\n",
            "Requirement already satisfied: torch in /usr/local/lib/python3.7/dist-packages (from efficientnet_pytorch) (1.8.1+cu101)\n",
            "Requirement already satisfied: numpy in /usr/local/lib/python3.7/dist-packages (from torch->efficientnet_pytorch) (1.19.5)\n",
            "Requirement already satisfied: typing-extensions in /usr/local/lib/python3.7/dist-packages (from torch->efficientnet_pytorch) (3.7.4.3)\n"
          ],
          "name": "stdout"
        }
      ]
    },
    {
      "cell_type": "code",
      "metadata": {
        "id": "suitable-herald"
      },
      "source": [
        "import os\n",
        "import shutil\n",
        "import glob\n",
        "import time\n",
        "\n",
        "import torch\n",
        "import torchvision\n",
        "import torch.nn as nn\n",
        "import torch.optim as optim\n",
        "\n",
        "from torch.optim import lr_scheduler\n",
        "from torch.utils.data.dataloader import DataLoader\n",
        "from torch.nn.modules.loss import CrossEntropyLoss\n",
        "from torch.optim.adam import Adam\n",
        "from torch.optim.lr_scheduler import StepLR\n",
        "\n",
        "import torchvision.transforms.functional as F\n",
        "from torchvision import datasets, models, transforms\n",
        "\n",
        "from efficientnet_pytorch import EfficientNet\n",
        "\n",
        "import pandas as pd\n",
        "import numpy as np\n",
        "\n",
        "import matplotlib.pyplot as plt\n",
        "import seaborn as sns\n",
        "\n",
        "from sklearn.model_selection import train_test_split\n",
        "from sklearn.metrics import f1_score\n",
        "\n",
        "from google.colab import drive\n",
        "from tqdm.autonotebook import tqdm, trange\n",
        "\n",
        "from pathlib import Path\n",
        "\n",
        "sns.set(style='whitegrid', font_scale=1.4)"
      ],
      "id": "suitable-herald",
      "execution_count": 2,
      "outputs": []
    },
    {
      "cell_type": "markdown",
      "metadata": {
        "id": "DO_7D8ocGQV9"
      },
      "source": [
        "## Вспомогательные функции:\n",
        "- функции для создания тензоров из изображений, даталоадеров и датасетов в формате PyTorch;\n",
        "- функции, описывающие процессы обучения, валидации и тестирования модели"
      ],
      "id": "DO_7D8ocGQV9"
    },
    {
      "cell_type": "code",
      "metadata": {
        "id": "iUL4qSE2hOmI"
      },
      "source": [
        "def prepare_train_val_test_dirs(source_dir, target_dir, val_size):\n",
        "\n",
        "    test_dir = os.path.join(target_dir, 'test', 'test')\n",
        "    shutil.rmtree(test_dir, ignore_errors=True)\n",
        "    os.makedirs(test_dir, exist_ok=True)\n",
        "\n",
        "    test_source_dir = os.path.join(source_dir, 'testset', 'testset')\n",
        "    for filename in glob.glob(os.path.join(test_source_dir, '*.jpg')):\n",
        "        shutil.copy(filename, test_dir)\n",
        "\n",
        "    train_dir = os.path.join(target_dir, 'train')\n",
        "    shutil.rmtree(train_dir, ignore_errors=True)\n",
        "    os.makedirs(train_dir, exist_ok=True)\n",
        "\n",
        "    val_dir = os.path.join(target_dir, 'val')\n",
        "    shutil.rmtree(val_dir, ignore_errors=True)\n",
        "    os.makedirs(val_dir, exist_ok=True)\n",
        "\n",
        "    train_source_dir = Path(\n",
        "        os.path.join(source_dir, 'train', 'simpsons_dataset')\n",
        "    )\n",
        "    train_val_files = sorted(list(train_source_dir.rglob('*.jpg')))\n",
        "    train_val_labels = [path.parent.name for path in train_val_files]\n",
        "    train_files, val_files = train_test_split(\n",
        "        train_val_files, test_size=val_size, stratify=train_val_labels\n",
        "    )\n",
        "\n",
        "    for files, directory in [(train_files, train_dir), (val_files, val_dir)]:\n",
        "        for filename in files:\n",
        "            label_dir = os.path.join(directory, filename.parent.name)\n",
        "            if not os.path.isdir(label_dir):\n",
        "                os.makedirs(label_dir, exist_ok=True)\n",
        "            shutil.copy(filename, label_dir)"
      ],
      "id": "iUL4qSE2hOmI",
      "execution_count": 3,
      "outputs": []
    },
    {
      "cell_type": "code",
      "metadata": {
        "id": "meaningful-thompson"
      },
      "source": [
        "def train_model(model, criterion, optimizer, scheduler, num_epochs,\n",
        "    dataloaders, dataset_sizes):\n",
        "  \n",
        "    since = time.time()\n",
        "    losses = {'train': [], 'val': []}\n",
        "\n",
        "    best_model_wts = model.state_dict()\n",
        "    best_score = 0.0\n",
        "\n",
        "    pbar = trange(num_epochs, desc='epoch:')\n",
        "    for _ in pbar:\n",
        "\n",
        "        # каждая эпоха имеет обучающую и тестовую стадии\n",
        "        for phase in ['train', 'val']:\n",
        "            if phase == 'train':\n",
        "                scheduler.step()\n",
        "                # установить модель в режим обучения\n",
        "                model.train(True)\n",
        "            else:\n",
        "                model.eval()\n",
        "\n",
        "            running_loss = 0.0\n",
        "            actual_labels = []\n",
        "            pred_labels = []\n",
        "\n",
        "            # итерируемся по батчам\n",
        "            for data in tqdm(\n",
        "                    dataloaders[phase], leave=False, desc=f'{phase} iter:'\n",
        "            ):\n",
        "                # получаем картинки и метки\n",
        "                inputs, labels = data\n",
        "                actual_labels.extend([i.item() for i in labels])\n",
        "\n",
        "                if USE_GPU:\n",
        "                    inputs = inputs.cuda()\n",
        "                    labels = labels.cuda()\n",
        "                else:\n",
        "                    inputs, labels = inputs, labels\n",
        "\n",
        "                # инициализируем градиенты параметров\n",
        "                if phase == 'train':\n",
        "                    optimizer.zero_grad()\n",
        "\n",
        "                # forward pass\n",
        "                if phase == 'eval':\n",
        "                    with torch.no_grad():\n",
        "                        outputs = model(inputs)\n",
        "                else:\n",
        "                    outputs = model(inputs)\n",
        "\n",
        "                preds = torch.argmax(outputs, -1)\n",
        "                pred_labels.extend([i.item() for i in preds])\n",
        "\n",
        "                loss = criterion(outputs, labels)\n",
        "\n",
        "                # backward pass + оптимизируем только если это стадия обучения\n",
        "                if phase == 'train':\n",
        "                    loss.backward()\n",
        "                    optimizer.step()\n",
        "\n",
        "                # считаем статистику\n",
        "                running_loss += loss.item()\n",
        "\n",
        "            epoch_loss = running_loss / dataset_sizes[phase]\n",
        "            epoch_score = f1_score(actual_labels, pred_labels, average='micro')\n",
        "\n",
        "            losses[phase].append(epoch_loss)\n",
        "\n",
        "            pbar.set_description('{} loss: {:.4f} score: {:.4f}'.format(\n",
        "                phase, epoch_loss, epoch_score\n",
        "            ))\n",
        "\n",
        "            # если получили лучшее качество, то запомним веса модели\n",
        "            if phase == 'val' and epoch_score > best_score:\n",
        "                best_score = epoch_score\n",
        "                best_model_wts = model.state_dict()\n",
        "\n",
        "    time_elapsed = time.time() - since\n",
        "    print('Training time: {:.0f}m {:.0f}s'.format(\n",
        "        time_elapsed // 60, time_elapsed % 60))\n",
        "    print('Best score: {:4f}'.format(best_score))\n",
        "\n",
        "    # загрузим лучшие веса модели\n",
        "    model.load_state_dict(best_model_wts)\n",
        "    return model, losses"
      ],
      "id": "meaningful-thompson",
      "execution_count": 4,
      "outputs": []
    },
    {
      "cell_type": "code",
      "metadata": {
        "id": "amino-rubber"
      },
      "source": [
        "def evaluate(model, dataloader):\n",
        "  \n",
        "    model.eval()\n",
        "\n",
        "    actual_labels = []\n",
        "    pred_labels = []\n",
        "    for data in dataloader:\n",
        "        # получаем картинки и метки\n",
        "        inputs, labels = data\n",
        "        actual_labels.extend([i.item() for i in labels])\n",
        "\n",
        "        # переносим на gpu, если возможно\n",
        "        if USE_GPU:\n",
        "            inputs = inputs.cuda()\n",
        "\n",
        "        # forward pass\n",
        "        output = model(inputs)\n",
        "        _, pred = torch.max(output, 1)\n",
        "        pred_labels.extend([i.item() for i in pred])\n",
        "\n",
        "    return actual_labels, pred_labels"
      ],
      "id": "amino-rubber",
      "execution_count": 5,
      "outputs": []
    },
    {
      "cell_type": "code",
      "metadata": {
        "id": "sk5g_iVk4ywC"
      },
      "source": [
        "def predict(model, dataloader):\n",
        "  \n",
        "    with torch.no_grad():\n",
        "        logits = []\n",
        "        for inputs, _ in dataloader:\n",
        "            if USE_GPU:\n",
        "                inputs = inputs.cuda()\n",
        "            model.eval()\n",
        "            outputs = model(inputs).cpu()\n",
        "            logits.append(outputs)\n",
        "    return nn.functional.softmax(torch.cat(logits), dim=-1).numpy()"
      ],
      "id": "sk5g_iVk4ywC",
      "execution_count": 6,
      "outputs": []
    },
    {
      "cell_type": "code",
      "metadata": {
        "id": "LvaS_2WmwOUC"
      },
      "source": [
        "def accuracy_by_classes(actual_labels, pred_labels, class_names):\n",
        "  \n",
        "    all_items = {}\n",
        "    correct_items = {}\n",
        "    for actual, pred in zip(actual_labels, pred_labels):\n",
        "        name = class_names[actual]\n",
        "        if name in all_items:\n",
        "            all_items[name] += 1\n",
        "        else:\n",
        "            all_items[name] = 1\n",
        "            correct_items[name] = 0\n",
        "\n",
        "        if pred == actual:\n",
        "            correct_items[name] += 1\n",
        "\n",
        "    data = [\n",
        "        (name, correct_items[name] / all_items[name], all_items[name])\n",
        "        for name in all_items.keys()\n",
        "    ]\n",
        "    return pd.DataFrame(data, columns=['name', 'accuracy', 'total_images'])"
      ],
      "id": "LvaS_2WmwOUC",
      "execution_count": 7,
      "outputs": []
    },
    {
      "cell_type": "markdown",
      "metadata": {
        "id": "foE_lohGs0-n"
      },
      "source": [
        "## Балансировка классов при обучении: \n",
        "Инициализация веса каждого класса как частота появления изображения этого класса в датасете"
      ],
      "id": "foE_lohGs0-n"
    },
    {
      "cell_type": "code",
      "metadata": {
        "id": "5MaS1HlHhDQk"
      },
      "source": [
        "def make_weights_for_balanced_classes(images, num_classes):\n",
        "    count = [0] * num_classes\n",
        "    for item in images:\n",
        "        count[item[1]] += 1\n",
        "\n",
        "    weight_per_class = [0.] * num_classes\n",
        "    num_all_images = float(sum(count))\n",
        "\n",
        "    for i in range(num_classes):\n",
        "        weight_per_class[i] = num_all_images/float(count[i])\n",
        "\n",
        "    weight = [0] * len(images)\n",
        "    for idx, val in enumerate(images):\n",
        "        weight[idx] = weight_per_class[val[1]]\n",
        "\n",
        "    return weight"
      ],
      "id": "5MaS1HlHhDQk",
      "execution_count": 8,
      "outputs": []
    },
    {
      "cell_type": "code",
      "metadata": {
        "id": "jvdeB1vMstkA"
      },
      "source": [
        "class SquarePad:\n",
        "    def __call__(self, image):\n",
        "        w, h = image.size\n",
        "        max_wh = np.max([w, h])\n",
        "        hp = int((max_wh - w) / 2)\n",
        "        vp = int((max_wh - h) / 2)\n",
        "        padding = (hp, vp, hp, vp)\n",
        "        return F.pad(image, padding, 0, 'constant')"
      ],
      "id": "jvdeB1vMstkA",
      "execution_count": 9,
      "outputs": []
    },
    {
      "cell_type": "markdown",
      "metadata": {
        "id": "JF0k_w8UAgxo"
      },
      "source": [
        "## Загрузка данных из Google Drive"
      ],
      "id": "JF0k_w8UAgxo"
    },
    {
      "cell_type": "code",
      "metadata": {
        "colab": {
          "base_uri": "https://localhost:8080/"
        },
        "id": "UTiIU22KgouH",
        "outputId": "ada65418-ce19-415f-f21a-003c354642c9"
      },
      "source": [
        "drive.mount('/content/gdrive/')"
      ],
      "id": "UTiIU22KgouH",
      "execution_count": 10,
      "outputs": [
        {
          "output_type": "stream",
          "text": [
            "Drive already mounted at /content/gdrive/; to attempt to forcibly remount, call drive.mount(\"/content/gdrive/\", force_remount=True).\n"
          ],
          "name": "stdout"
        }
      ]
    },
    {
      "cell_type": "code",
      "metadata": {
        "id": "ban7RbVdgUDs"
      },
      "source": [
        "!mkdir -p /data/springfield\n",
        "!mkdir -p /data/models"
      ],
      "id": "ban7RbVdgUDs",
      "execution_count": 11,
      "outputs": []
    },
    {
      "cell_type": "code",
      "metadata": {
        "id": "FAXBz7gkXiEv"
      },
      "source": [
        "!unzip -q /content/gdrive/MyDrive/journey-springfield.zip -d /data/springfield"
      ],
      "id": "FAXBz7gkXiEv",
      "execution_count": null,
      "outputs": []
    },
    {
      "cell_type": "code",
      "metadata": {
        "id": "pktcMiOGhOox"
      },
      "source": [
        "prepare_train_val_test_dirs(\n",
        "    source_dir='/data/springfield',\n",
        "    target_dir='/data',\n",
        "    val_size=0.25,\n",
        ")"
      ],
      "id": "pktcMiOGhOox",
      "execution_count": 11,
      "outputs": []
    },
    {
      "cell_type": "markdown",
      "metadata": {
        "id": "G9pXRUSzBMAL"
      },
      "source": [
        "## Подготовка датасета и аугментация"
      ],
      "id": "G9pXRUSzBMAL"
    },
    {
      "cell_type": "code",
      "metadata": {
        "id": "backed-joshua"
      },
      "source": [
        "PATH_TO_DATA = '/data'\n",
        "USE_GPU = torch.cuda.is_available()\n",
        "BATCH_SIZE = 32\n",
        "IMAGE_SIZE = 240"
      ],
      "id": "backed-joshua",
      "execution_count": 12,
      "outputs": []
    },
    {
      "cell_type": "code",
      "metadata": {
        "colab": {
          "base_uri": "https://localhost:8080/"
        },
        "id": "gC6BGqlXX7Z9",
        "outputId": "31e38e83-af3e-4b45-a939-b5599bee560a"
      },
      "source": [
        "!nvidia-smi"
      ],
      "id": "gC6BGqlXX7Z9",
      "execution_count": 13,
      "outputs": [
        {
          "output_type": "stream",
          "text": [
            "Mon Apr 26 17:52:01 2021       \n",
            "+-----------------------------------------------------------------------------+\n",
            "| NVIDIA-SMI 465.19.01    Driver Version: 460.32.03    CUDA Version: 11.2     |\n",
            "|-------------------------------+----------------------+----------------------+\n",
            "| GPU  Name        Persistence-M| Bus-Id        Disp.A | Volatile Uncorr. ECC |\n",
            "| Fan  Temp  Perf  Pwr:Usage/Cap|         Memory-Usage | GPU-Util  Compute M. |\n",
            "|                               |                      |               MIG M. |\n",
            "|===============================+======================+======================|\n",
            "|   0  Tesla P100-PCIE...  Off  | 00000000:00:04.0 Off |                    0 |\n",
            "| N/A   39C    P0    26W / 250W |      2MiB / 16280MiB |      0%      Default |\n",
            "|                               |                      |                  N/A |\n",
            "+-------------------------------+----------------------+----------------------+\n",
            "                                                                               \n",
            "+-----------------------------------------------------------------------------+\n",
            "| Processes:                                                                  |\n",
            "|  GPU   GI   CI        PID   Type   Process name                  GPU Memory |\n",
            "|        ID   ID                                                   Usage      |\n",
            "|=============================================================================|\n",
            "|  No running processes found                                                 |\n",
            "+-----------------------------------------------------------------------------+\n"
          ],
          "name": "stdout"
        }
      ]
    },
    {
      "cell_type": "markdown",
      "metadata": {
        "id": "AjcEkCbUqTfn"
      },
      "source": [
        "Трансформации для train (включая data augmentation) и valid датасетов с нормализацией:"
      ],
      "id": "AjcEkCbUqTfn"
    },
    {
      "cell_type": "code",
      "metadata": {
        "id": "friendly-desperate"
      },
      "source": [
        "train_transforms = transforms.Compose([\n",
        "    SquarePad(),\n",
        "    transforms.Resize((IMAGE_SIZE+20, IMAGE_SIZE+20)),\n",
        "    transforms.RandomHorizontalFlip(p=0.5),\n",
        "    transforms.RandomCrop((IMAGE_SIZE, IMAGE_SIZE)),\n",
        "    transforms.ColorJitter(brightness=0.2, contrast=0.2),\n",
        "    transforms.ToTensor(),\n",
        "    transforms.Normalize([0.485, 0.456, 0.406], [0.229, 0.224, 0.225])\n",
        "])\n",
        "\n",
        "val_transforms = transforms.Compose([\n",
        "    SquarePad(),\n",
        "    transforms.Resize((IMAGE_SIZE, IMAGE_SIZE)),\n",
        "    transforms.ToTensor(),\n",
        "    transforms.Normalize([0.485, 0.456, 0.406], [0.229, 0.224, 0.225])\n",
        "])"
      ],
      "id": "friendly-desperate",
      "execution_count": 14,
      "outputs": []
    },
    {
      "cell_type": "code",
      "metadata": {
        "id": "synthetic-childhood"
      },
      "source": [
        "train_dataset = datasets.ImageFolder(\n",
        "    root=os.path.join(PATH_TO_DATA, 'train'),\n",
        "    transform=train_transforms,\n",
        ")\n",
        "\n",
        "val_dataset = datasets.ImageFolder(\n",
        "    root=os.path.join(PATH_TO_DATA, 'val'),\n",
        "    transform=val_transforms,\n",
        ")\n",
        "\n",
        "class_names = train_dataset.classes"
      ],
      "id": "synthetic-childhood",
      "execution_count": 15,
      "outputs": []
    },
    {
      "cell_type": "code",
      "metadata": {
        "id": "3ZH1IluphUxl"
      },
      "source": [
        "weights = make_weights_for_balanced_classes(train_dataset.imgs, len(class_names))\n",
        "weights = torch.DoubleTensor(weights)\n",
        "\n",
        "sampler = torch.utils.data.sampler.WeightedRandomSampler(weights, len(weights))"
      ],
      "id": "3ZH1IluphUxl",
      "execution_count": 16,
      "outputs": []
    },
    {
      "cell_type": "code",
      "metadata": {
        "id": "2dfnNyuShXyq"
      },
      "source": [
        "train_loader = DataLoader(\n",
        "    train_dataset, batch_size=BATCH_SIZE, sampler=sampler, num_workers=2\n",
        ")\n",
        "val_loader = DataLoader(\n",
        "    val_dataset, batch_size=BATCH_SIZE, shuffle=True, num_workers=2\n",
        ")"
      ],
      "id": "2dfnNyuShXyq",
      "execution_count": 17,
      "outputs": []
    },
    {
      "cell_type": "markdown",
      "metadata": {
        "id": "ox4OcbRTBiG2"
      },
      "source": [
        ""
      ],
      "id": "ox4OcbRTBiG2"
    },
    {
      "cell_type": "markdown",
      "metadata": {
        "id": "FDQ9wRRYlHFh"
      },
      "source": [
        "## **Обучение модели**\n",
        "## Efficient Net\n",
        "\n",
        "\n",
        "\n",
        "Движемся дальше. Поговорим об эффективности более подробно. До этого архитектуры сетей, можно сказать, подбирались руками. Так у нас есть ResNet50, а не ResNet54 со свертками 3x3 а не 4x4.\n",
        "\n",
        "Но если у нас есть достаточно ресурсов, то можно попробовать обучить алгоритм, который будет подбирать правильные параметры для слоев. Для начала нужно определить какие бывают методы для увеличения сети и запустить по ним grid search:\n",
        "\n",
        "![](https://1.bp.blogspot.com/-Cdtb97FtgdA/XO3BHsB7oEI/AAAAAAAAEKE/bmtkonwgs8cmWyI5esVo8wJPnhPLQ5bGQCLcBGAs/s640/image4.png)\n",
        "\n",
        "Затем основываясь на основе этих данны можно получить оптимальную архитектуру длясвоего числа параметров\n",
        "\n",
        "![](https://1.bp.blogspot.com/-DjZT_TLYZok/XO3BYqpxCJI/AAAAAAAAEKM/BvV53klXaTUuQHCkOXZZGywRMdU9v9T_wCLcBGAs/s640/image2.png)\n",
        "\n",
        "И оказывается, что даже самая маленькая сеть будет показывать лучшие результаты.\n",
        "\n",
        "![](https://1.bp.blogspot.com/-oNSfIOzO8ko/XO3BtHnUx0I/AAAAAAAAEKk/rJ2tHovGkzsyZnCbwVad-Q3ZBnwQmCFsgCEwYBhgL/s640/image3.png)\n",
        "\n",
        "Подробнее [здесь](https://ai.googleblog.com/2019/05/efficientnet-improving-accuracy-and.html)."
      ],
      "id": "FDQ9wRRYlHFh"
    },
    {
      "cell_type": "markdown",
      "metadata": {
        "id": "cQUaYnDfouik"
      },
      "source": [
        "В качестве базового варианта выберем предобученную модель EfficientNet-B3. Заменим последний слой классификатора на собственный с 42 выходными классами."
      ],
      "id": "cQUaYnDfouik"
    },
    {
      "cell_type": "code",
      "metadata": {
        "colab": {
          "base_uri": "https://localhost:8080/"
        },
        "id": "correct-hydrogen",
        "outputId": "ac0ba79b-6397-46ff-ff15-2162a18243cd"
      },
      "source": [
        "model = EfficientNet.from_pretrained('efficientnet-b3')"
      ],
      "id": "correct-hydrogen",
      "execution_count": 23,
      "outputs": [
        {
          "output_type": "stream",
          "text": [
            "Loaded pretrained weights for efficientnet-b3\n"
          ],
          "name": "stdout"
        }
      ]
    },
    {
      "cell_type": "code",
      "metadata": {
        "colab": {
          "base_uri": "https://localhost:8080/"
        },
        "id": "VFL-O-Cu1ZxS",
        "outputId": "13ae0c2e-ed24-4936-b71a-bea7970e76ab"
      },
      "source": [
        "model._fc"
      ],
      "id": "VFL-O-Cu1ZxS",
      "execution_count": 24,
      "outputs": [
        {
          "output_type": "execute_result",
          "data": {
            "text/plain": [
              "Linear(in_features=1536, out_features=1000, bias=True)"
            ]
          },
          "metadata": {
            "tags": []
          },
          "execution_count": 24
        }
      ]
    },
    {
      "cell_type": "code",
      "metadata": {
        "id": "thorough-brunswick"
      },
      "source": [
        "num_features = model._fc.in_features\n",
        "\n",
        "# заменяем FC layer на собственный линейны классификатор с 42 классами\n",
        "model._fc = nn.Linear(num_features, len(class_names))\n",
        "\n",
        "if USE_GPU:\n",
        "    model = model.cuda()\n",
        "\n",
        "# Объявляем и инициализируем функцию потерь и оптимизатор AdamW\n",
        "loss_fn = nn.CrossEntropyLoss()\n",
        "optimizer_ft = optim.AdamW(model.parameters(), lr=1e-4)\n",
        "\n",
        "# умножаем learning_rate на 0.1 каждые 6 эпох\n",
        "step_lr_scheduler = lr_scheduler.StepLR(optimizer_ft, step_size=6, gamma=0.1)"
      ],
      "id": "thorough-brunswick",
      "execution_count": 20,
      "outputs": []
    },
    {
      "cell_type": "code",
      "metadata": {
        "id": "5xsQQh4xhFvw"
      },
      "source": [
        "torch.cuda.empty_cache()"
      ],
      "id": "5xsQQh4xhFvw",
      "execution_count": 21,
      "outputs": []
    },
    {
      "cell_type": "code",
      "metadata": {
        "id": "crucial-westminster"
      },
      "source": [
        "# Обучаем сеть в течение 15 эпох\n",
        "\n",
        "model, losses = train_model(\n",
        "    model=model,\n",
        "    criterion=loss_fn,\n",
        "    optimizer=optimizer_ft,\n",
        "    scheduler=step_lr_scheduler,\n",
        "    num_epochs=15,\n",
        "    dataloaders={'train': train_loader, 'val': val_loader},\n",
        "    dataset_sizes={'train': len(train_dataset), 'val': len(val_dataset)},\n",
        ")"
      ],
      "id": "crucial-westminster",
      "execution_count": null,
      "outputs": []
    },
    {
      "cell_type": "markdown",
      "metadata": {
        "id": "x38FzZjipvb0"
      },
      "source": [
        "Посмотрим на график loss на обучени и валидации"
      ],
      "id": "x38FzZjipvb0"
    },
    {
      "cell_type": "code",
      "metadata": {
        "colab": {
          "base_uri": "https://localhost:8080/",
          "height": 490
        },
        "id": "MvhIi4sOtf-L",
        "outputId": "60a5b718-fe89-440f-82af-f0fd1189b3c2"
      },
      "source": [
        "plt.figure(figsize=(12, 8))\n",
        "\n",
        "plt.plot(losses['train'], label='train')\n",
        "plt.plot(losses['val'], label='val')\n",
        "\n",
        "plt.legend()\n",
        "plt.show()"
      ],
      "id": "MvhIi4sOtf-L",
      "execution_count": 27,
      "outputs": [
        {
          "output_type": "display_data",
          "data": {
            "image/png": "[encoded data removed]",
            "text/plain": [
              "<Figure size 864x576 with 1 Axes>"
            ]
          },
          "metadata": {
            "tags": []
          }
        }
      ]
    },
    {
      "cell_type": "markdown",
      "metadata": {
        "id": "DzSO3Bropj5y"
      },
      "source": [
        "Сохраняем лучшую модель и производим расчет метрики F1 на валидационном датасете"
      ],
      "id": "DzSO3Bropj5y"
    },
    {
      "cell_type": "code",
      "metadata": {
        "id": "saving-species"
      },
      "source": [
        "torch.save(model.state_dict(), 'efficientnet-b3.pth')"
      ],
      "id": "saving-species",
      "execution_count": 28,
      "outputs": []
    },
    {
      "cell_type": "code",
      "metadata": {
        "id": "artistic-governor"
      },
      "source": [
        "actual_labels, pred_labels = evaluate(model, val_loader)"
      ],
      "id": "artistic-governor",
      "execution_count": 29,
      "outputs": []
    },
    {
      "cell_type": "code",
      "metadata": {
        "colab": {
          "base_uri": "https://localhost:8080/"
        },
        "id": "fkYjpb22pw-e",
        "outputId": "920ed963-150a-44b6-bfda-51a6987d9ab1"
      },
      "source": [
        "f1_score(actual_labels, pred_labels, average='micro')"
      ],
      "id": "fkYjpb22pw-e",
      "execution_count": 30,
      "outputs": [
        {
          "output_type": "execute_result",
          "data": {
            "text/plain": [
              "0.9831868551776843"
            ]
          },
          "metadata": {
            "tags": []
          },
          "execution_count": 30
        }
      ]
    },
    {
      "cell_type": "markdown",
      "metadata": {
        "id": "q_kL0dtuARCi"
      },
      "source": [
        "## Submission на Kaggle"
      ],
      "id": "q_kL0dtuARCi"
    },
    {
      "cell_type": "code",
      "metadata": {
        "id": "x4_7pBeg537F"
      },
      "source": [
        "test_dataset = datasets.ImageFolder(\n",
        "    root=os.path.join(PATH_TO_DATA, 'test'),\n",
        "    transform=val_transforms,\n",
        ")\n",
        "test_loader = DataLoader(\n",
        "    test_dataset, batch_size=BATCH_SIZE, shuffle=False, num_workers=2\n",
        ")\n",
        "\n",
        "probs = predict(model, test_loader)\n",
        "preds = [class_names[i] for i in np.argmax(probs, axis=1)]\n",
        "test_filenames = [Path(file_path).name for file_path, _ in test_dataset.imgs]"
      ],
      "id": "x4_7pBeg537F",
      "execution_count": 31,
      "outputs": []
    },
    {
      "cell_type": "code",
      "metadata": {
        "colab": {
          "base_uri": "https://localhost:8080/",
          "height": 202
        },
        "id": "euSfxzGM7Trn",
        "outputId": "db750df0-30fa-4469-d9e2-82679e476300"
      },
      "source": [
        "submission = pd.DataFrame({\n",
        "    'Id': test_filenames,\n",
        "    'Expected': preds\n",
        "})\n",
        "submission.head()"
      ],
      "id": "euSfxzGM7Trn",
      "execution_count": 32,
      "outputs": [
        {
          "output_type": "execute_result",
          "data": {
            "text/html": [
              "<div>\n",
              "<style scoped>\n",
              "    .dataframe tbody tr th:only-of-type {\n",
              "        vertical-align: middle;\n",
              "    }\n",
              "\n",
              "    .dataframe tbody tr th {\n",
              "        vertical-align: top;\n",
              "    }\n",
              "\n",
              "    .dataframe thead th {\n",
              "        text-align: right;\n",
              "    }\n",
              "</style>\n",
              "<table border=\"1\" class=\"dataframe\">\n",
              "  <thead>\n",
              "    <tr style=\"text-align: right;\">\n",
              "      <th></th>\n",
              "      <th>Id</th>\n",
              "      <th>Expected</th>\n",
              "    </tr>\n",
              "  </thead>\n",
              "  <tbody>\n",
              "    <tr>\n",
              "      <th>0</th>\n",
              "      <td>img0.jpg</td>\n",
              "      <td>nelson_muntz</td>\n",
              "    </tr>\n",
              "    <tr>\n",
              "      <th>1</th>\n",
              "      <td>img1.jpg</td>\n",
              "      <td>bart_simpson</td>\n",
              "    </tr>\n",
              "    <tr>\n",
              "      <th>2</th>\n",
              "      <td>img10.jpg</td>\n",
              "      <td>ned_flanders</td>\n",
              "    </tr>\n",
              "    <tr>\n",
              "      <th>3</th>\n",
              "      <td>img100.jpg</td>\n",
              "      <td>chief_wiggum</td>\n",
              "    </tr>\n",
              "    <tr>\n",
              "      <th>4</th>\n",
              "      <td>img101.jpg</td>\n",
              "      <td>apu_nahasapeemapetilon</td>\n",
              "    </tr>\n",
              "  </tbody>\n",
              "</table>\n",
              "</div>"
            ],
            "text/plain": [
              "           Id                Expected\n",
              "0    img0.jpg            nelson_muntz\n",
              "1    img1.jpg            bart_simpson\n",
              "2   img10.jpg            ned_flanders\n",
              "3  img100.jpg            chief_wiggum\n",
              "4  img101.jpg  apu_nahasapeemapetilon"
            ]
          },
          "metadata": {
            "tags": []
          },
          "execution_count": 32
        }
      ]
    },
    {
      "cell_type": "code",
      "metadata": {
        "id": "4qOXMfz-8CMy"
      },
      "source": [
        "submission.to_csv('submission_b3.csv', index=False)"
      ],
      "id": "4qOXMfz-8CMy",
      "execution_count": 34,
      "outputs": []
    }
  ]
}